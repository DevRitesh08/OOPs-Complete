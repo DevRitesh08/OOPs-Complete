{
 "nbformat": 4,
 "nbformat_minor": 0,
 "metadata": {
  "colab": {
   "provenance": []
  },
  "kernelspec": {
   "name": "python3",
   "display_name": "Python 3 (ipykernel)",
   "language": "python"
  },
  "language_info": {
   "name": "python"
  }
 },
 "cells": [
  {
   "metadata": {},
   "cell_type": "markdown",
   "source": [
    "# OOP\n",
    "**OOP (Object Oriented Programming)** is a programming paradigm that used to structure a program by bundling related properties and behaviors into individual objects.\n",
    "\n",
    "Its main concepts are:\n",
    "- Class\n",
    "- Object\n",
    "- Inheritance\n",
    "- Polymorphism\n",
    "- Encapsulation\n",
    "- Abstraction\n",
    "- Message Passing\n",
    "- Dynamic Binding\n",
    "- Overloading\n",
    "- Overriding"
   ]
  },
  {
   "metadata": {},
   "cell_type": "markdown",
   "source": [
    "# Class\n",
    "A class is a blueprint for creating objects. It defines a set of attributes and methods that the created objects will have.\n",
    "- It's a user defined datatype , that defines its own data members and member functions\n",
    "- Syntax to create a class\n",
    "```python\n",
    "class ClassName:\n",
    "  # attributes\n",
    "  # methods\n",
    "```"
   ]
  },
  {
   "metadata": {},
   "cell_type": "markdown",
   "source": [
    "## Object\n",
    "An object is an instance of a class. It is created using the class constructor and can access the attributes and methods defined in the class.\n",
    "- syntax to create an object\n",
    "```python\n",
    "objectname = classname()\n",
    "```"
   ]
  },
  {
   "cell_type": "code",
   "metadata": {
    "colab": {
     "base_uri": "https://localhost:8080/",
     "height": 205
    },
    "id": "3rwuRliDnX7y",
    "outputId": "6115092b-d6f7-4ef3-91fc-4d46ca119b09",
    "ExecuteTime": {
     "end_time": "2025-09-26T08:08:52.783568Z",
     "start_time": "2025-09-26T08:08:52.497683Z"
    }
   },
   "source": [
    "L = [1,2,3]\n",
    "\n",
    "L.upper()"
   ],
   "outputs": [
    {
     "ename": "AttributeError",
     "evalue": "'list' object has no attribute 'upper'",
     "output_type": "error",
     "traceback": [
      "\u001B[31m---------------------------------------------------------------------------\u001B[39m",
      "\u001B[31mAttributeError\u001B[39m                            Traceback (most recent call last)",
      "\u001B[36mCell\u001B[39m\u001B[36m \u001B[39m\u001B[32mIn[2]\u001B[39m\u001B[32m, line 3\u001B[39m\n\u001B[32m      1\u001B[39m L = [\u001B[32m1\u001B[39m,\u001B[32m2\u001B[39m,\u001B[32m3\u001B[39m]\n\u001B[32m----> \u001B[39m\u001B[32m3\u001B[39m \u001B[43mL\u001B[49m\u001B[43m.\u001B[49m\u001B[43mupper\u001B[49m()\n",
      "\u001B[31mAttributeError\u001B[39m: 'list' object has no attribute 'upper'"
     ]
    }
   ],
   "execution_count": 2
  },
  {
   "cell_type": "code",
   "source": [
    "s = 'hello'\n",
    "s.append('x')"
   ],
   "metadata": {
    "colab": {
     "base_uri": "https://localhost:8080/",
     "height": 187
    },
    "id": "96Kwr6nLnyDM",
    "outputId": "9845bb6f-e342-4054-d1ca-bb790b8da96d"
   },
   "outputs": [],
   "execution_count": null
  },
  {
   "cell_type": "code",
   "source": [
    "L = [1,2,3]\n",
    "print(type(L))"
   ],
   "metadata": {
    "colab": {
     "base_uri": "https://localhost:8080/"
    },
    "id": "mmHow1wwn9TG",
    "outputId": "ab6a35e4-e395-4fe2-f9fb-b236eefc3526"
   },
   "outputs": [],
   "execution_count": null
  },
  {
   "cell_type": "code",
   "source": [
    "s = [1,2,3]"
   ],
   "metadata": {
    "id": "uYaUUd8uqh8G"
   },
   "outputs": [],
   "execution_count": null
  },
  {
   "cell_type": "code",
   "source": [
    "# syntax to create an object\n",
    "\n",
    "#objectname = classname()"
   ],
   "metadata": {
    "id": "UrQCJI-xqkyX"
   },
   "outputs": [],
   "execution_count": null
  },
  {
   "cell_type": "code",
   "source": [
    "# object literal\n",
    "L = [1,2,3]"
   ],
   "metadata": {
    "id": "BE1pbysesWlD"
   },
   "outputs": [],
   "execution_count": null
  },
  {
   "cell_type": "code",
   "source": [
    "L = list()\n",
    "L"
   ],
   "metadata": {
    "colab": {
     "base_uri": "https://localhost:8080/"
    },
    "id": "EuMPro8hsbB3",
    "outputId": "aad19e46-44ad-4b86-86b2-ded54a6a4a29"
   },
   "outputs": [],
   "execution_count": null
  },
  {
   "cell_type": "code",
   "source": [
    "s = str()\n",
    "s"
   ],
   "metadata": {
    "colab": {
     "base_uri": "https://localhost:8080/",
     "height": 36
    },
    "id": "F_pB8wsPsdA9",
    "outputId": "ca758fc3-330c-4ec4-bb4f-5863c7c03d7a"
   },
   "outputs": [],
   "execution_count": null
  },
  {
   "cell_type": "code",
   "source": [
    "# Pascal Case\n",
    "\n",
    "HelloWorld"
   ],
   "metadata": {
    "id": "ffVNGUBhtMrL"
   },
   "outputs": [],
   "execution_count": null
  },
  {
   "cell_type": "code",
   "source": [
    "class Atm:\n",
    "\n",
    "  # constructor(special function)->superpower ->\n",
    "  def __init__(self):\n",
    "    print(id(self))\n",
    "    self.pin = ''\n",
    "    self.balance = 0\n",
    "    #self.menu()\n",
    "\n",
    "  def menu(self):\n",
    "    user_input = input(\"\"\"\n",
    "    Hi how can I help you?\n",
    "    1. Press 1 to create pin\n",
    "    2. Press 2 to change pin\n",
    "    3. Press 3 to check balance\n",
    "    4. Press 4 to withdraw\n",
    "    5. Anything else to exit\n",
    "    \"\"\")\n",
    "\n",
    "    if user_input == '1':\n",
    "      self.create_pin()\n",
    "    elif user_input == '2':\n",
    "      self.change_pin()\n",
    "    elif user_input == '3':\n",
    "      self.check_balance()\n",
    "    elif user_input == '4':\n",
    "      self.withdraw()\n",
    "    else:\n",
    "      exit()\n",
    "\n",
    "  def create_pin(self):\n",
    "    user_pin = input('enter your pin')\n",
    "    self.pin = user_pin\n",
    "\n",
    "    user_balance = int(input('enter balance'))\n",
    "    self.balance = user_balance\n",
    "\n",
    "    print('pin created successfully')\n",
    "    self.menu()\n",
    "\n",
    "  def change_pin():\n",
    "    old_pin = input('enter old pin')\n",
    "\n",
    "    if old_pin == self.pin:\n",
    "      # let him change the pin\n",
    "      new_pin = input('enter new pin')\n",
    "      self.pin = new_pin\n",
    "      print('pin change successful')\n",
    "      self.menu()\n",
    "    else:\n",
    "      print('nai karne de sakta re baba')\n",
    "      self.menu()\n",
    "\n",
    "  def check_balance(self):\n",
    "    user_pin = input('enter your pin')\n",
    "    if user_pin == self.pin:\n",
    "      print('your balance is ',self.balance)\n",
    "    else:\n",
    "      print('chal nikal yahan se')\n",
    "\n",
    "  def withdraw(self):\n",
    "    user_pin = input('enter the pin')\n",
    "    if user_pin == self.pin:\n",
    "      # allow to withdraw\n",
    "      amount = int(input('enter the amount'))\n",
    "      if amount <= self.balance:\n",
    "        self.balance = self.balance - amount\n",
    "        print('withdrawl successful.balance is',self.balance)\n",
    "      else:\n",
    "        print('abe garib')\n",
    "    else:\n",
    "      print('sale chor')\n",
    "    self.menu()\n",
    "\n",
    "\n"
   ],
   "metadata": {
    "id": "76IAiCrBshyW"
   },
   "outputs": [],
   "execution_count": null
  },
  {
   "cell_type": "code",
   "source": [
    "obj1 = Atm()"
   ],
   "metadata": {
    "colab": {
     "base_uri": "https://localhost:8080/"
    },
    "id": "nT1VdlNauFYf",
    "outputId": "c999bb53-021f-4b1d-ab86-9c07614670f2"
   },
   "outputs": [],
   "execution_count": null
  },
  {
   "cell_type": "code",
   "source": [
    "id(obj1)"
   ],
   "metadata": {
    "colab": {
     "base_uri": "https://localhost:8080/"
    },
    "id": "zfF7WE1LuWzp",
    "outputId": "dc720059-b16b-4d1a-9b07-dff807a19ccd"
   },
   "outputs": [],
   "execution_count": null
  },
  {
   "cell_type": "code",
   "source": [
    "obj2 = Atm()"
   ],
   "metadata": {
    "colab": {
     "base_uri": "https://localhost:8080/"
    },
    "id": "NHJEFG6CuY1v",
    "outputId": "b6d60e51-ca4a-46b3-c95c-58ac30bf107d"
   },
   "outputs": [],
   "execution_count": null
  },
  {
   "cell_type": "code",
   "source": [
    "id(obj2)"
   ],
   "metadata": {
    "colab": {
     "base_uri": "https://localhost:8080/"
    },
    "id": "2RmYPjp0-m5F",
    "outputId": "3c55ae5b-fea6-42b1-eb88-abd54c925aaf"
   },
   "outputs": [],
   "execution_count": null
  },
  {
   "cell_type": "code",
   "source": [
    "L = [1,2,3]\n",
    "len(L) # function ->bcos it is outside the list class\n",
    "L.append()# method -> bcos it is inside the list class"
   ],
   "metadata": {
    "id": "qMYm7tYJv_s2"
   },
   "outputs": [],
   "execution_count": null
  },
  {
   "cell_type": "code",
   "source": [
    "class Temp:\n",
    "\n",
    "  def __init__(self):\n",
    "    print('hello')\n",
    "\n",
    "obj = Temp()"
   ],
   "metadata": {
    "colab": {
     "base_uri": "https://localhost:8080/"
    },
    "id": "FT63LIRB4YQM",
    "outputId": "64520926-5f6c-4491-e71d-83b1f63b4cd3"
   },
   "outputs": [],
   "execution_count": null
  },
  {
   "cell_type": "code",
   "source": [
    "3/4*1/2"
   ],
   "metadata": {
    "colab": {
     "base_uri": "https://localhost:8080/"
    },
    "id": "w52ABPIX4dbv",
    "outputId": "c35dae21-2ab4-4a1f-ec98-05d962bdf12c"
   },
   "outputs": [],
   "execution_count": null
  },
  {
   "cell_type": "code",
   "source": [
    "class Fraction:\n",
    "\n",
    "  # parameterized constructor\n",
    "  def __init__(self,x,y):\n",
    "    self.num = x\n",
    "    self.den = y\n",
    "\n",
    "  def __str__(self):\n",
    "    return '{}/{}'.format(self.num,self.den)\n",
    "\n",
    "  def __add__(self,other):\n",
    "    new_num = self.num*other.den + other.num*self.den\n",
    "    new_den = self.den*other.den\n",
    "\n",
    "    return '{}/{}'.format(new_num,new_den)\n",
    "\n",
    "  def __sub__(self,other):\n",
    "    new_num = self.num*other.den - other.num*self.den\n",
    "    new_den = self.den*other.den\n",
    "\n",
    "    return '{}/{}'.format(new_num,new_den)\n",
    "\n",
    "  def __mul__(self,other):\n",
    "    new_num = self.num*other.num\n",
    "    new_den = self.den*other.den\n",
    "\n",
    "    return '{}/{}'.format(new_num,new_den)\n",
    "\n",
    "  def __truediv__(self,other):\n",
    "    new_num = self.num*other.den\n",
    "    new_den = self.den*other.num\n",
    "\n",
    "    return '{}/{}'.format(new_num,new_den)\n",
    "\n",
    "  def convert_to_decimal(self):\n",
    "    return self.num/self.den\n",
    "\n",
    "\n",
    "\n",
    "\n"
   ],
   "metadata": {
    "id": "Q19W8x5Y-KHv"
   },
   "outputs": [],
   "execution_count": null
  },
  {
   "cell_type": "code",
   "source": [
    "fr1 = Fraction(3,4)\n",
    "fr2 = Fraction(1,2)"
   ],
   "metadata": {
    "id": "CpmYQ8mm_N1X"
   },
   "outputs": [],
   "execution_count": null
  },
  {
   "cell_type": "code",
   "source": [
    "fr1.convert_to_decimal()\n",
    "# 3/4"
   ],
   "metadata": {
    "colab": {
     "base_uri": "https://localhost:8080/"
    },
    "id": "-DW3uyJq_XAa",
    "outputId": "b8aac211-28f6-463f-aee1-10f5e93590ce"
   },
   "outputs": [],
   "execution_count": null
  },
  {
   "cell_type": "code",
   "source": [
    "print(fr1 + fr2)\n",
    "print(fr1 - fr2)\n",
    "print(fr1 * fr2)\n",
    "print(fr1 / fr2)"
   ],
   "metadata": {
    "colab": {
     "base_uri": "https://localhost:8080/"
    },
    "id": "TkfFpVlj_hdf",
    "outputId": "86461b66-070a-4491-a626-a8a0fe9b6e2e"
   },
   "outputs": [],
   "execution_count": null
  },
  {
   "cell_type": "code",
   "source": [
    "s1={1,2,3}\n",
    "s2={3,4,5}\n",
    "\n",
    "s1 + s2"
   ],
   "metadata": {
    "colab": {
     "base_uri": "https://localhost:8080/",
     "height": 205
    },
    "id": "85oS9Z7ZAys4",
    "outputId": "c4e8344f-ed23-43ce-ca93-ff973f757680"
   },
   "outputs": [],
   "execution_count": null
  },
  {
   "cell_type": "code",
   "source": [
    "print(fr1 - fr2)"
   ],
   "metadata": {
    "colab": {
     "base_uri": "https://localhost:8080/",
     "height": 169
    },
    "id": "op-qgssMA48a",
    "outputId": "0e2058d7-d5ef-4f55-ea8c-6495ae9bd0c4"
   },
   "outputs": [],
   "execution_count": null
  },
  {
   "cell_type": "code",
   "source": [],
   "metadata": {
    "id": "UR_w2uzvCC2k"
   },
   "outputs": [],
   "execution_count": null
  }
 ]
}
