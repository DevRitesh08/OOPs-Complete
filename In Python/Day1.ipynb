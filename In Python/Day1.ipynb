{
 "cells": [
  {
   "cell_type": "markdown",
   "metadata": {},
   "source": [
    "# OOP\n",
    "**OOP (Object Oriented Programming)** is a programming paradigm that used to structure a program by bundling related properties and behaviors into individual objects.\n",
    "\n",
    "Its main concepts are:\n",
    "- Class\n",
    "- Object\n",
    "- Inheritance\n",
    "- Polymorphism\n",
    "- Encapsulation\n",
    "- Abstraction\n",
    "- Message Passing\n",
    "- Dynamic Binding\n",
    "- Overloading\n",
    "- Overriding\n",
    "\n",
    "### Real world Application of OOP\n",
    "- In web development -> Django, Flask -> both are frameworks based on OOP concepts\n",
    "- In game development -> Pygame -> a library based on OOP concepts\n",
    "- In GUI development -> Tkinter, PyQt\n",
    "- In data science -> Pandas, Numpy\n",
    "- In machine learning -> Scikit-learn, Tensorflow, Pytorch\n",
    "- In web scraping -> Beautifulsoup, Scrapy\n",
    "- In automation -> Selenium, PyAutoGUI\n",
    "- In networking -> Socket programming\n",
    "- In database management -> SQLAlchemy, Django ORM\n",
    "- In testing -> Unittest, Pytest\n",
    "- In data visualization -> Matplotlib, Seaborn, Plotly\n",
    "- In scientific computing -> SciPy\n",
    "- In natural language processing -> NLTK, SpaCy"
   ]
  },
  {
   "cell_type": "markdown",
   "metadata": {},
   "source": [
    "# Class\n",
    "A class is a blueprint for creating objects. It defines a set of attributes and methods that the created objects will have.\n",
    "- It's a user defined datatype , that defines its own data members and member functions\n",
    "- Syntax to create a class\n",
    "```python\n",
    "class ClassName:\n",
    "  # attributes\n",
    "  # methods\n",
    "```\n",
    "\n",
    "- Data members/attributes -> variables that hold data\n",
    "- Member functions/methods -> functions that define behavior"
   ]
  },
  {
   "cell_type": "markdown",
   "metadata": {},
   "source": [
    "# Object\n",
    "An object is an instance of a class. It is created using the class constructor and can access the attributes and methods defined in the class.\n",
    "- syntax to create an object\n",
    "```python\n",
    "objectname = classname()\n",
    "```"
   ]
  },
  {
   "cell_type": "markdown",
   "metadata": {},
   "source": [
    "Consider a real-world example of a car. A car has properties such as color, make, model, and year. It also has behaviors such as starting, stopping, and accelerating. In OOP, we can represent a car as a class, which defines its properties and behaviors. We can then create objects (instances) of the car class, each with its own unique properties and behaviors, such as lamborghini, ferrari etc."
   ]
  },
  {
   "cell_type": "code",
   "execution_count": null,
   "metadata": {
    "colab": {
     "base_uri": "https://localhost:8080/",
     "height": 205
    },
    "id": "3rwuRliDnX7y",
    "outputId": "6115092b-d6f7-4ef3-91fc-4d46ca119b09"
   },
   "outputs": [],
   "source": [
    "L = [1,2,3]\n",
    "\n",
    "L.upper()"
   ]
  },
  {
   "cell_type": "markdown",
   "metadata": {},
   "source": [
    "`L` is an object of the list class. The list class has a method called 'append' that allows us to add elements to the list. However, it does not have a method called 'upper', which is why we get an error when we try to call it."
   ]
  },
  {
   "cell_type": "code",
   "execution_count": null,
   "metadata": {
    "colab": {
     "base_uri": "https://localhost:8080/",
     "height": 187
    },
    "id": "96Kwr6nLnyDM",
    "outputId": "9845bb6f-e342-4054-d1ca-bb790b8da96d"
   },
   "outputs": [],
   "source": [
    "s = 'hello'\n",
    "s.append('x')"
   ]
  },
  {
   "cell_type": "markdown",
   "metadata": {},
   "source": [
    "`s` is an object of the string class. The string class has a method called 'upper' that allows us to convert the string to uppercase. However, it does not have a method called 'append' ."
   ]
  },
  {
   "cell_type": "code",
   "execution_count": null,
   "metadata": {
    "colab": {
     "base_uri": "https://localhost:8080/"
    },
    "id": "mmHow1wwn9TG",
    "outputId": "ab6a35e4-e395-4fe2-f9fb-b236eefc3526"
   },
   "outputs": [],
   "source": [
    "L = [1,2,3]\n",
    "print(type(L))"
   ]
  },
  {
   "cell_type": "code",
   "execution_count": null,
   "metadata": {
    "id": "uYaUUd8uqh8G"
   },
   "outputs": [],
   "source": [
    "s = [1,2,3]"
   ]
  },
  {
   "cell_type": "code",
   "execution_count": null,
   "metadata": {
    "id": "UrQCJI-xqkyX"
   },
   "outputs": [],
   "source": [
    "# syntax to create an object\n",
    "\n",
    "#objectname = classname()"
   ]
  },
  {
   "cell_type": "code",
   "execution_count": null,
   "metadata": {
    "id": "BE1pbysesWlD"
   },
   "outputs": [],
   "source": [
    "# object literal => It is a way to create an object without using a class , here we are using the built in datatype list to create an object\n",
    "L = [1,2,3]"
   ]
  },
  {
   "cell_type": "code",
   "execution_count": null,
   "metadata": {
    "colab": {
     "base_uri": "https://localhost:8080/"
    },
    "id": "EuMPro8hsbB3",
    "outputId": "aad19e46-44ad-4b86-86b2-ded54a6a4a29"
   },
   "outputs": [],
   "source": [
    "L = list()  # This is also a way to create an object using the built-in datatype list\n",
    "L"
   ]
  },
  {
   "cell_type": "code",
   "execution_count": null,
   "metadata": {
    "colab": {
     "base_uri": "https://localhost:8080/",
     "height": 36
    },
    "id": "F_pB8wsPsdA9",
    "outputId": "ca758fc3-330c-4ec4-bb4f-5863c7c03d7a"
   },
   "outputs": [],
   "source": [
    "s = str()\n",
    "s"
   ]
  },
  {
   "cell_type": "code",
   "execution_count": 7,
   "metadata": {
    "ExecuteTime": {
     "end_time": "2025-09-28T16:42:20.844562Z",
     "start_time": "2025-09-28T16:42:20.837222Z"
    }
   },
   "outputs": [],
   "source": [
    "# Pascal Case is used for class names like ThisIsPascalCase\n",
    "# Camel Case is used for variable and function names like thisIsCamelCase"
   ]
  },
  {
   "cell_type": "markdown",
   "metadata": {},
   "source": [
    "## Constructor\n",
    "A constructor is a special method that is called when an object is created. It is used to initialize the attributes of the object. In Python, the constructor is defined using the `__init__` method.\n",
    "- It is a special method that is called when an object is created\n",
    "- It is used to initialize the attributes of the object\n",
    "- It is defined using the `__init__` method\n",
    "- It always takes `self` as the first parameter\n",
    "- Name of the constructor is always `__init__`\n",
    "- Their is only one constructor possible in a class , we can not overload constructors in Python .\n",
    "\n",
    "### What is the benefit of using a Constructor ?\n",
    "- Since the code inside the constructor is executed automatically when an object is created .\n",
    "- Configuration related code like connecting to a database, opening a file, setting up a network connection can be placed inside the constructor so that it is executed automatically when an object is created.\n",
    "- "
   ]
  },
  {
   "cell_type": "code",
   "execution_count": 1,
   "metadata": {
    "ExecuteTime": {
     "end_time": "2025-09-30T08:46:04.727041Z",
     "start_time": "2025-09-30T08:46:04.719851Z"
    },
    "id": "76IAiCrBshyW"
   },
   "outputs": [],
   "source": [
    "class Atm:\n",
    "    # constructor : Here for a constructor we do not call the function explicitly to run the code written inside it  ( it is done automatically when an object of this class is created ) .\n",
    "  def __init__(self):\n",
    "    print(id(self))\n",
    "    self.pin = ''\n",
    "    self.balance = 100000\n",
    "    # self.menu()\n",
    "\n",
    "  def menu(self):\n",
    "    user_input = input(\"\"\"\n",
    "    Hi how can I help you?\n",
    "    1. Press 1 to create pin\n",
    "    2. Press 2 to change pin\n",
    "    3. Press 3 to check balance\n",
    "    4. Press 4 to withdraw\n",
    "    5. Anything else to exit\n",
    "    \"\"\")\n",
    "\n",
    "    if user_input == '1':\n",
    "      self.create_pin()         # Calling create_pin function\n",
    "    elif user_input == '2':\n",
    "      self.change_pin()\n",
    "    elif user_input == '3':\n",
    "      self.check_balance()\n",
    "    elif user_input == '4':\n",
    "      self.withdraw()\n",
    "    else:\n",
    "      exit()\n",
    "\n",
    "  def create_pin(self):\n",
    "    user_pin = input('Enter your pin : ')\n",
    "    self.pin = user_pin\n",
    "\n",
    "    print('Pin created successfully')\n",
    "    self.menu()\n",
    "\n",
    "  def change_pin(self):\n",
    "    old_pin = input('Enter old pin : ')\n",
    "\n",
    "    if old_pin == self.pin:\n",
    "      # let him change the pin\n",
    "      new_pin = input('Enter new pin : ')\n",
    "      self.pin = new_pin\n",
    "      print('Pin change successful')\n",
    "      self.menu()\n",
    "    else:\n",
    "      print('You entered wrong pin')\n",
    "      self.menu()\n",
    "\n",
    "  def check_balance(self):\n",
    "    user_pin = input('enter your pin : ')\n",
    "    if user_pin == self.pin:\n",
    "      print('your balance is : ',self.balance)\n",
    "    else:\n",
    "      print('You entered wrong pin')\n",
    "\n",
    "  def withdraw(self):\n",
    "    user_pin = input('Enter the pin : ')\n",
    "    if user_pin == self.pin:\n",
    "      # allow to withdraw\n",
    "      amount = int(input('Enter the amount : '))\n",
    "      if amount <= self.balance:\n",
    "        self.balance = self.balance - amount\n",
    "        print('withdrawal successful.balance is',self.balance)\n",
    "      else:\n",
    "        print('Unable to withdraw because your balance is low')\n",
    "    else:\n",
    "      print('You entered wrong pin')\n",
    "    self.menu()"
   ]
  },
  {
   "cell_type": "code",
   "execution_count": 2,
   "metadata": {
    "ExecuteTime": {
     "end_time": "2025-09-30T08:49:27.531562Z",
     "start_time": "2025-09-30T08:49:23.560767Z"
    }
   },
   "outputs": [
    {
     "name": "stdout",
     "output_type": "stream",
     "text": [
      "1410447383856\n"
     ]
    }
   ],
   "source": [
    "obj = Atm()"
   ]
  },
  {
   "cell_type": "code",
   "execution_count": 3,
   "metadata": {
    "ExecuteTime": {
     "end_time": "2025-09-30T08:44:32.628745Z",
     "start_time": "2025-09-30T08:44:32.624388Z"
    },
    "colab": {
     "base_uri": "https://localhost:8080/"
    },
    "id": "nT1VdlNauFYf",
    "outputId": "c999bb53-021f-4b1d-ab86-9c07614670f2"
   },
   "outputs": [
    {
     "name": "stdout",
     "output_type": "stream",
     "text": [
      "1410447459024\n"
     ]
    }
   ],
   "source": [
    "obj1 = Atm()"
   ]
  },
  {
   "cell_type": "code",
   "execution_count": 4,
   "metadata": {
    "colab": {
     "base_uri": "https://localhost:8080/"
    },
    "id": "zfF7WE1LuWzp",
    "outputId": "dc720059-b16b-4d1a-9b07-dff807a19ccd"
   },
   "outputs": [
    {
     "data": {
      "text/plain": [
       "1410447459024"
      ]
     },
     "execution_count": 4,
     "metadata": {},
     "output_type": "execute_result"
    }
   ],
   "source": [
    "id(obj1)"
   ]
  },
  {
   "cell_type": "code",
   "execution_count": 5,
   "metadata": {
    "colab": {
     "base_uri": "https://localhost:8080/"
    },
    "id": "NHJEFG6CuY1v",
    "outputId": "b6d60e51-ca4a-46b3-c95c-58ac30bf107d"
   },
   "outputs": [
    {
     "name": "stdout",
     "output_type": "stream",
     "text": [
      "1410447459344\n"
     ]
    }
   ],
   "source": [
    "obj2 = Atm()"
   ]
  },
  {
   "cell_type": "code",
   "execution_count": 6,
   "metadata": {
    "colab": {
     "base_uri": "https://localhost:8080/"
    },
    "id": "2RmYPjp0-m5F",
    "outputId": "3c55ae5b-fea6-42b1-eb88-abd54c925aaf"
   },
   "outputs": [
    {
     "data": {
      "text/plain": [
       "1410447459344"
      ]
     },
     "execution_count": 6,
     "metadata": {},
     "output_type": "execute_result"
    }
   ],
   "source": [
    "id(obj2)"
   ]
  },
  {
   "cell_type": "markdown",
   "metadata": {},
   "source": [
    "since both id of object and self are same , so self is nothing but a reference variable that refers to the current object ."
   ]
  },
  {
   "cell_type": "markdown",
   "metadata": {},
   "source": [
    "## Class Diagram\n",
    "It is a graphical representation of a class, its attributes, and its methods , which is used to visualize the structure of a class and its relationships with other classes.\n",
    "- here is a simple class diagram for a class named `Class` with three attributes and three methods:\n",
    "- here `+` indicates public access and `-` indicates private access\n",
    "```plaintext\n",
    "+------------------+\n",
    "|      Class       |\n",
    "+------------------+\n",
    "| - attribute1     |\n",
    "| - attribute2     |\n",
    "| - attributeN     |\n",
    "+------------------+\n",
    "| + method1()      |\n",
    "| + method2(param) |\n",
    "| + methodN()      |\n",
    "+------------------+\n",
    "\n"
   ]
  },
  {
   "cell_type": "code",
   "execution_count": 9,
   "metadata": {},
   "outputs": [],
   "source": [
    "class Car : \n",
    "    def __init__(self):\n",
    "        print('car object created')\n",
    "    def feature():  # here we are not using self .\n",
    "        print('car has 4 wheels')"
   ]
  },
  {
   "cell_type": "code",
   "execution_count": 10,
   "metadata": {},
   "outputs": [
    {
     "name": "stdout",
     "output_type": "stream",
     "text": [
      "car object created\n"
     ]
    }
   ],
   "source": [
    "a = Car()"
   ]
  },
  {
   "cell_type": "code",
   "execution_count": 11,
   "metadata": {},
   "outputs": [
    {
     "ename": "TypeError",
     "evalue": "Car.feature() takes 0 positional arguments but 1 was given",
     "output_type": "error",
     "traceback": [
      "\u001b[31m---------------------------------------------------------------------------\u001b[39m",
      "\u001b[31mTypeError\u001b[39m                                 Traceback (most recent call last)",
      "\u001b[36mCell\u001b[39m\u001b[36m \u001b[39m\u001b[32mIn[11]\u001b[39m\u001b[32m, line 1\u001b[39m\n\u001b[32m----> \u001b[39m\u001b[32m1\u001b[39m \u001b[43ma\u001b[49m\u001b[43m.\u001b[49m\u001b[43mfeature\u001b[49m\u001b[43m(\u001b[49m\u001b[43m)\u001b[49m  \u001b[38;5;66;03m# we will get an error bcos we are not using self in the method feature and we are calling it using the object of the class . so to access attributes and methods of a class we need to use self in the method .\u001b[39;00m\n",
      "\u001b[31mTypeError\u001b[39m: Car.feature() takes 0 positional arguments but 1 was given"
     ]
    }
   ],
   "source": [
    "a.feature()  # we will get an error bcos we are not using self in the method feature and we are calling it using the object of the class . so to access attributes and methods of a class we need to use self in the method ."
   ]
  },
  {
   "cell_type": "markdown",
   "metadata": {},
   "source": [
    "This error `TypeError: Car.feature() takes 0 positional arguments but 1 was given` shows us that we are passing one argument to the method `feature` but it is not expecting any arguments. This is because we are calling the method using the object of the class `a.feature()`, which automatically passes the object `a` as the first argument to the method. However, since we have not defined `self` as the first parameter in the method `feature`, it is not expecting any arguments and hence we get this error."
   ]
  },
  {
   "cell_type": "markdown",
   "metadata": {},
   "source": [
    "### Concept of self \n",
    "Metods and attributes of a class can only be accessed by the object of the class , not even the functions (methods ) of class can access each other directly , they need an object to access each other .\n",
    "- as we can observe in the above example id of object and self are same => so self is nothing but a reference variable that refers to the current object .\n",
    "- And since we can access attributes and methods of a class only by the object of the class , so self is used to access attributes and methods of the class by the methods of the class .\n",
    "- so when a function of class wants to access attributes or methods of the class it uses self to do so .\n",
    "- same goes for attributes of the class , to access attributes of the class we use self ex . self.attribute1 = attribute1 ..."
   ]
  },
  {
   "cell_type": "markdown",
   "metadata": {},
   "source": [
    "### What is `self`?\n",
    "self is a reference to the current instance of the class. It is used to access the attributes and methods of the class.\n",
    "- It is always the first parameter of the methods in a class.\n",
    "- It is not a keyword, it is just a convention, so not necessarily have to be named self, but it is recommended to use self for better readability."
   ]
  },
  {
   "cell_type": "markdown",
   "metadata": {},
   "source": [
    "###"
   ]
  },
  {
   "cell_type": "markdown",
   "metadata": {},
   "source": [
    "## Difference between method and function \n",
    "- A function is a block of code that performs a specific task. It can take input parameters and return output values. It is defined using the `def` keyword.\n",
    "- A method is a function that is associated with an object. It is defined within a class and can access the attributes and methods of the class. It always takes `self` as the first parameter.\n",
    "- A function can be called independently, while a method can only be called on an object of the class."
   ]
  },
  {
   "cell_type": "code",
   "execution_count": null,
   "metadata": {
    "id": "qMYm7tYJv_s2"
   },
   "outputs": [],
   "source": [
    "L = [1,2,3]\n",
    "len(L)      # function ->bcos it is outside the list class\n",
    "L.append()  # method -> bcos it is inside the list class as we use L. to call it"
   ]
  },
  {
   "cell_type": "markdown",
   "metadata": {},
   "source": [
    "## Magic Methods ( Dunder Methods)\n",
    "- Magic methods are special methods that are defined in a class and are used to perform specific operations on objects of the class.\n",
    "- They are also known as dunder methods (double underscore methods) because they are surrounded by double underscores.\n",
    "- They are called automatically by Python when certain operations are performed on objects of the class.\n",
    "- Some common magic methods are:\n",
    "  - `__init__`: constructor method that is called when an object is created.\n",
    "  - `__str__`: method that is called when the object is converted to a string , like when we use print() function on the object.\n",
    "  - `__repr__`: method that is called when the object is printed.\n",
    "  - `__add__`: method that is called when the `+` operator is used on two objects of the class.\n",
    "  - `__len__`: method that is called when the `len()` function is used on an object of the class.\n",
    "  - `__eq__`: method that is called when the `==` operator is used to compare two objects of the class.\n",
    "  - `__lt__`: method that is called when the `<` operator is used to compare two objects of the class.\n",
    "  - `__gt__`: method that is called when the `>` operator is used to compare two objects of the class.\n",
    "  - `__getitem__`: method that is called when an item is accessed using indexing.\n",
    "  - `__setitem__`: method that is called when an item is set using indexing.\n",
    "  - `__delitem__`: method that is called when an item is deleted using indexing."
   ]
  },
  {
   "cell_type": "code",
   "execution_count": null,
   "metadata": {
    "colab": {
     "base_uri": "https://localhost:8080/"
    },
    "id": "FT63LIRB4YQM",
    "outputId": "64520926-5f6c-4491-e71d-83b1f63b4cd3"
   },
   "outputs": [],
   "source": [
    "class Temp:\n",
    "\n",
    "  def __init__(self):\n",
    "    print('hello')\n",
    "\n",
    "obj = Temp()"
   ]
  },
  {
   "cell_type": "markdown",
   "metadata": {},
   "source": [
    "### Creating our own data type for fractions"
   ]
  },
  {
   "cell_type": "code",
   "execution_count": 13,
   "metadata": {
    "colab": {
     "base_uri": "https://localhost:8080/"
    },
    "id": "w52ABPIX4dbv",
    "outputId": "c35dae21-2ab4-4a1f-ec98-05d962bdf12c"
   },
   "outputs": [
    {
     "data": {
      "text/plain": [
       "0.375"
      ]
     },
     "execution_count": 13,
     "metadata": {},
     "output_type": "execute_result"
    }
   ],
   "source": [
    "3/4*1/2     # here result is 0.375 but we want the result in fraction form 3/8 so for that we will create our own datatype for fractions ."
   ]
  },
  {
   "cell_type": "code",
   "execution_count": null,
   "metadata": {
    "id": "Q19W8x5Y-KHv"
   },
   "outputs": [],
   "source": [
    "class Fraction:\n",
    "\n",
    "  # parameterized constructor : constructor which takes parameters like x,y\n",
    "  def __init__(self,x,y):\n",
    "    self.num = x\n",
    "    self.den = y\n",
    "\n",
    "  def __str__(self):\n",
    "    return '{}/{}'.format(self.num,self.den)\n",
    "\n",
    "  def __add__(self,other):    # here self is the first object that is f1 and other is f2\n",
    "    new_num = self.num*other.den + other.num*self.den\n",
    "    new_den = self.den*other.den\n",
    "\n",
    "    return '{}/{}'.format(new_num,new_den)\n",
    "\n",
    "  def __sub__(self,other):  # same here\n",
    "    new_num = self.num*other.den - other.num*self.den\n",
    "    new_den = self.den*other.den\n",
    "\n",
    "    return '{}/{}'.format(new_num,new_den)\n",
    "\n",
    "  def __mul__(self,other):\n",
    "    new_num = self.num*other.num\n",
    "    new_den = self.den*other.den\n",
    "\n",
    "    return '{}/{}'.format(new_num,new_den)\n",
    "\n",
    "  def __truediv__(self,other):\n",
    "    new_num = self.num*other.den\n",
    "    new_den = self.den*other.num\n",
    "\n",
    "    return '{}/{}'.format(new_num,new_den)\n",
    "\n",
    "  def convert_to_decimal(self):   # non-magic method\n",
    "    return self.num/self.den"
   ]
  },
  {
   "cell_type": "code",
   "execution_count": 15,
   "metadata": {
    "id": "CpmYQ8mm_N1X"
   },
   "outputs": [],
   "source": [
    "fr1 = Fraction(3,4)\n",
    "fr2 = Fraction(1,2)"
   ]
  },
  {
   "cell_type": "code",
   "execution_count": 16,
   "metadata": {
    "colab": {
     "base_uri": "https://localhost:8080/"
    },
    "id": "-DW3uyJq_XAa",
    "outputId": "b8aac211-28f6-463f-aee1-10f5e93590ce"
   },
   "outputs": [
    {
     "data": {
      "text/plain": [
       "0.75"
      ]
     },
     "execution_count": 16,
     "metadata": {},
     "output_type": "execute_result"
    }
   ],
   "source": [
    "fr1.convert_to_decimal()\n",
    "# 3/4"
   ]
  },
  {
   "cell_type": "code",
   "execution_count": 19,
   "metadata": {
    "colab": {
     "base_uri": "https://localhost:8080/"
    },
    "id": "TkfFpVlj_hdf",
    "outputId": "86461b66-070a-4491-a626-a8a0fe9b6e2e"
   },
   "outputs": [
    {
     "name": "stdout",
     "output_type": "stream",
     "text": [
      "10/8\n",
      "2/8\n",
      "3/8\n",
      "6/4\n"
     ]
    }
   ],
   "source": [
    "print(fr1 + fr2)\n",
    "print(fr1 - fr2)\n",
    "print(fr1 * fr2)\n",
    "print(fr1 / fr2)"
   ]
  },
  {
   "cell_type": "markdown",
   "metadata": {},
   "source": [
    "### Write OOP classes to handle the following scenarios:\n",
    "\n",
    "- A user can create and view 2D coordinates\n",
    "- A user can find out the distance between 2 coordinates\n",
    "- A user can find find the distance of a coordinate from origin\n",
    "- A user can check if a point lies on a given line\n",
    "- A user can find the distance between a given 2D point and a given line"
   ]
  },
  {
   "cell_type": "code",
   "execution_count": 24,
   "metadata": {},
   "outputs": [],
   "source": [
    "class Point:\n",
    "\n",
    "  def __init__(self,x,y):\n",
    "    self.x_cod = x\n",
    "    self.y_cod = y\n",
    "\n",
    "  def __str__(self):\n",
    "    return '<{},{}>'.format(self.x_cod,self.y_cod)\n",
    "\n",
    "  def euclidean_distance(self,other):\n",
    "    return ((self.x_cod - other.x_cod)**2 + (self.y_cod - other.y_cod)**2)**0.5\n",
    "\n",
    "  def distance_from_origin(self):\n",
    "    return (self.x_cod**2 + self.y_cod**2)**0.5\n",
    "    # return self.euclidean_distance(Point(0,0))\n",
    "\n",
    "\n",
    "class Line:\n",
    "\n",
    "  def __init__(self,A,B,C):\n",
    "    self.A = A\n",
    "    self.B = B\n",
    "    self.C = C\n",
    "\n",
    "  def __str__(self):\n",
    "    return '{}x + {}y + {} = 0'.format(self.A,self.B,self.C)\n",
    "\n",
    "  def point_on_line(line,point):\n",
    "    if line.A*point.x_cod + line.B*point.y_cod + line.C == 0:\n",
    "      return \"lies on the line\"\n",
    "    else:\n",
    "      return \"does not lie on the line\"\n",
    "\n",
    "  def shortest_distance(line,point):\n",
    "    return abs(line.A*point.x_cod + line.B*point.y_cod + line.C)/(line.A**2 + line.B**2)**0.5\n"
   ]
  },
  {
   "cell_type": "code",
   "execution_count": 25,
   "metadata": {},
   "outputs": [
    {
     "name": "stdout",
     "output_type": "stream",
     "text": [
      "1x + 1y + -2 = 0\n",
      "<1,10>\n"
     ]
    },
    {
     "data": {
      "text/plain": [
       "6.363961030678928"
      ]
     },
     "execution_count": 25,
     "metadata": {},
     "output_type": "execute_result"
    }
   ],
   "source": [
    "l1 = Line(1,1,-2)\n",
    "p1 = Point(1,10)\n",
    "print(l1)\n",
    "print(p1)\n",
    "\n",
    "l1.shortest_distance(p1)"
   ]
  },
  {
   "cell_type": "markdown",
   "metadata": {},
   "source": [
    "### How objects access attributes"
   ]
  },
  {
   "cell_type": "code",
   "execution_count": 26,
   "metadata": {},
   "outputs": [],
   "source": [
    "class Person:\n",
    "\n",
    "  def __init__(self,name_input,country_input):\n",
    "    self.name = name_input\n",
    "    self.country = country_input\n",
    "\n",
    "  def greet(self):\n",
    "    if self.country == 'india':\n",
    "      print('Namaste',self.name)\n",
    "    else:\n",
    "      print('Hello',self.name)\n"
   ]
  },
  {
   "cell_type": "code",
   "execution_count": 27,
   "metadata": {},
   "outputs": [],
   "source": [
    "# how to access attributes\n",
    "p = Person('nitish','india')"
   ]
  },
  {
   "cell_type": "code",
   "execution_count": 28,
   "metadata": {},
   "outputs": [
    {
     "data": {
      "text/plain": [
       "'nitish'"
      ]
     },
     "execution_count": 28,
     "metadata": {},
     "output_type": "execute_result"
    }
   ],
   "source": [
    "p.name"
   ]
  },
  {
   "cell_type": "code",
   "execution_count": 29,
   "metadata": {},
   "outputs": [
    {
     "name": "stdout",
     "output_type": "stream",
     "text": [
      "Namaste nitish\n"
     ]
    }
   ],
   "source": [
    "# how to access methods\n",
    "p.greet()"
   ]
  },
  {
   "cell_type": "code",
   "execution_count": 30,
   "metadata": {},
   "outputs": [
    {
     "ename": "AttributeError",
     "evalue": "'Person' object has no attribute 'gender'",
     "output_type": "error",
     "traceback": [
      "\u001b[31m---------------------------------------------------------------------------\u001b[39m",
      "\u001b[31mAttributeError\u001b[39m                            Traceback (most recent call last)",
      "\u001b[36mCell\u001b[39m\u001b[36m \u001b[39m\u001b[32mIn[30]\u001b[39m\u001b[32m, line 2\u001b[39m\n\u001b[32m      1\u001b[39m \u001b[38;5;66;03m# what if i try to access non-existent attributes\u001b[39;00m\n\u001b[32m----> \u001b[39m\u001b[32m2\u001b[39m \u001b[43mp\u001b[49m\u001b[43m.\u001b[49m\u001b[43mgender\u001b[49m\n",
      "\u001b[31mAttributeError\u001b[39m: 'Person' object has no attribute 'gender'"
     ]
    }
   ],
   "source": [
    "# what if i try to access non-existent attributes\n",
    "p.gender"
   ]
  },
  {
   "cell_type": "markdown",
   "metadata": {},
   "source": [
    "### Attribute creation from outside of the class"
   ]
  },
  {
   "cell_type": "code",
   "execution_count": 31,
   "metadata": {},
   "outputs": [],
   "source": [
    "p.gender = 'male'"
   ]
  },
  {
   "cell_type": "code",
   "execution_count": 32,
   "metadata": {},
   "outputs": [
    {
     "data": {
      "text/plain": [
       "'male'"
      ]
     },
     "execution_count": 32,
     "metadata": {},
     "output_type": "execute_result"
    }
   ],
   "source": [
    "p.gender"
   ]
  },
  {
   "cell_type": "markdown",
   "metadata": {},
   "source": [
    "### Reference Variables\n",
    "\n",
    "- Reference variables hold the objects\n",
    "- We can create objects without reference variable as well\n",
    "- An object can have multiple reference variables\n",
    "- Assigning a new reference variable to an existing object does not create a new object"
   ]
  },
  {
   "cell_type": "code",
   "execution_count": null,
   "metadata": {},
   "outputs": [],
   "source": []
  }
 ],
 "metadata": {
  "colab": {
   "provenance": []
  },
  "kernelspec": {
   "display_name": ".venv (3.13.7)",
   "language": "python",
   "name": "python3"
  },
  "language_info": {
   "codemirror_mode": {
    "name": "ipython",
    "version": 3
   },
   "file_extension": ".py",
   "mimetype": "text/x-python",
   "name": "python",
   "nbconvert_exporter": "python",
   "pygments_lexer": "ipython3",
   "version": "3.13.7"
  }
 },
 "nbformat": 4,
 "nbformat_minor": 0
}
