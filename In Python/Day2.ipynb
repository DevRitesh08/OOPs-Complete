{
  "cells": [
    {
      "cell_type": "markdown",
      "metadata": {
        "id": "A2Opzki1fw7x"
      },
      "source": [
        "# Encapsulation\n",
        "It is the mechanism of restricting direct access to some of an object's components, which can prevent the accidental modification of data. In Python, encapsulation is implemented using private and protected attributes and methods.\n",
        "- so basically we can restrict the access of attributes and methods of a class now we can't access them directly from outside the class ."
      ]
    },
    {
      "cell_type": "markdown",
      "metadata": {},
      "source": [
        "### Instance variables\n",
        "- Instance variables are variables that are defined inside the constructor (the `__init__` method) of a class and are unique to each instance (object) of the class. They are used to store data that is specific to each object."
      ]
    },
    {
      "cell_type": "code",
      "execution_count": null,
      "metadata": {
        "id": "yLRvYq47fyvp"
      },
      "outputs": [],
      "source": [
        "# instance var -> python tutor\n",
        "class Person:\n",
        "\n",
        "  def __init__(self,name_input,country_input):\n",
        "    self.name = name_input\n",
        "    self.country = country_input\n",
        "\n",
        "p1 = Person('nitish','india')\n",
        "p2 = Person('steve','australia')"
      ]
    },
    {
      "cell_type": "code",
      "execution_count": null,
      "metadata": {
        "colab": {
          "base_uri": "https://localhost:8080/",
          "height": 36
        },
        "id": "myBJr2T_KZmL",
        "outputId": "98f717d2-c600-43fa-c6ba-012f518d0490"
      },
      "outputs": [],
      "source": [
        "p2.name"
      ]
    },
    {
      "cell_type": "markdown",
      "metadata": {},
      "source": [
        "### Access Specifiers\n",
        "- Python does not have strict access control like some other languages (e.g., private in Java or C++), but it follows conventions to indicate the intended visibility. Here's how they work:\n",
        "1. Public Attributes and Methods\n",
        "- Definition: Members are accessible from anywhere, both inside and outside the class.\n",
        "- Convention: Names are written normally without any leading underscores.\n",
        "- Behavior: By default, all attributes and methods in Python are public.\n",
        "2. Protected Attributes and Methods\n",
        "- Definition: Members are accessible within the class and its subclasses, but not recommended for access outside these scopes.\n",
        "- Convention: Names are prefixed with a single underscore (_), indicating protected status.\n",
        "- Behavior: Python does not enforce access restrictions, but the single underscore signals that the attribute or method should be treated as \"protected\".\n",
        "3. Private Attributes and Methods\n",
        "- Definition: Members are accessible only within the class in which they are defined.\n",
        "- Convention: Names are prefixed with double underscores (__), making them private.\n",
        "- Behavior: Python uses name mangling to make private members less accessible, but still not entirely inaccessible."
      ]
    },
    {
      "cell_type": "markdown",
      "metadata": {},
      "source": [
        "**In python to make an instance variable private we use double underscore `__` before the variable name and to make it protected we use single underscore `_` before the variable name.**"
      ]
    },
    {
      "cell_type": "code",
      "execution_count": null,
      "metadata": {},
      "outputs": [],
      "source": [
        "class Test1 :\n",
        "    def __init__(self , a , b , c , d) :\n",
        "        self._a = a     # Protected attribute\n",
        "        self.b = b\n",
        "        self.c = c\n",
        "        self.d = d\n",
        "\n",
        "    def _custom(self , v) :     # Protected method\n",
        "        return v - self._a\n",
        "\n",
        "    def __str__(self) :\n",
        "        return \"this is my test code for abstraction !\"\n"
      ]
    },
    {
      "cell_type": "code",
      "execution_count": null,
      "metadata": {},
      "outputs": [],
      "source": [
        "obj1 = Test1(12 , 22 , 33 , 44)\n",
        "print(obj1._a)      # Accessible, but not recommended\n",
        "obj1._custom(100)    # Accessible, but not recommended"
      ]
    },
    {
      "cell_type": "code",
      "execution_count": null,
      "metadata": {},
      "outputs": [],
      "source": [
        "class Test2 :\n",
        "    def __init__(self , a , b , c , d) :\n",
        "        self.__a = a     # Private attribute\n",
        "        self.b = b\n",
        "        self.c = c\n",
        "        self.d = d\n",
        "\n",
        "    def __custom(self) : # Private method\n",
        "        return \"Hello, I am a private method\"\n",
        "\n",
        "\n",
        "    # Accessing private method from within the class\n",
        "    def access_private_method(self):\n",
        "         return self.__custom\n",
        "\n",
        "    def __str__(self) :\n",
        "        return \"this is my test code for abstraction !\"\n"
      ]
    },
    {
      "cell_type": "code",
      "execution_count": null,
      "metadata": {
        "id": "HRV0i93nzBtZ"
      },
      "outputs": [],
      "source": [
        "class Atm:\n",
        "    # constructor : Here for a constructor we do not call the function explicitly to run the code written inside it  ( it is done automatically when an object of this class is created ) .\n",
        "  def __init__(self):\n",
        "    print(id(self))\n",
        "    self.pin = ''\n",
        "    self.balance = 100000\n",
        "    # self.menu()\n",
        "\n",
        "  def menu(self):\n",
        "    user_input = input(\"\"\"\n",
        "    Hi how can I help you?\n",
        "    1. Press 1 to create pin\n",
        "    2. Press 2 to change pin\n",
        "    3. Press 3 to check balance\n",
        "    4. Press 4 to withdraw\n",
        "    5. Anything else to exit\n",
        "    \"\"\")\n",
        "\n",
        "    if user_input == '1':\n",
        "      self.create_pin()         # Calling create_pin function\n",
        "    elif user_input == '2':\n",
        "      self.change_pin()\n",
        "    elif user_input == '3':\n",
        "      self.check_balance()\n",
        "    elif user_input == '4':\n",
        "      self.withdraw()\n",
        "    else:\n",
        "      exit()\n",
        "\n",
        "  def create_pin(self):\n",
        "    user_pin = input('Enter your pin : ')\n",
        "    self.pin = user_pin\n",
        "\n",
        "    print('Pin created successfully')\n",
        "    self.menu()\n",
        "\n",
        "  def change_pin(self):\n",
        "    old_pin = input('Enter old pin : ')\n",
        "\n",
        "    if old_pin == self.pin:\n",
        "      # let him change the pin\n",
        "      new_pin = input('Enter new pin : ')\n",
        "      self.pin = new_pin\n",
        "      print('Pin change successful')\n",
        "      self.menu()\n",
        "    else:\n",
        "      print('You entered wrong pin')\n",
        "      self.menu()\n",
        "\n",
        "  def check_balance(self):\n",
        "    user_pin = input('enter your pin : ')\n",
        "    if user_pin == self.pin:\n",
        "      print('your balance is : ',self.balance)\n",
        "    else:\n",
        "      print('You entered wrong pin')\n",
        "\n",
        "  def withdraw(self):\n",
        "    user_pin = input('Enter the pin : ')\n",
        "    if user_pin == self.pin:\n",
        "      # allow to withdraw\n",
        "      amount = int(input('Enter the amount : '))\n",
        "      if amount <= self.balance:\n",
        "        self.balance = self.balance - amount\n",
        "        print('withdrawal successful.balance is',self.balance)\n",
        "      else:\n",
        "        print('Unable to withdraw because your balance is low')\n",
        "    else:\n",
        "      print('You entered wrong pin')\n",
        "    self.menu()"
      ]
    },
    {
      "cell_type": "code",
      "execution_count": null,
      "metadata": {},
      "outputs": [],
      "source": [
        "obj = Atm()"
      ]
    },
    {
      "cell_type": "code",
      "execution_count": null,
      "metadata": {},
      "outputs": [],
      "source": [
        "obj.pin = '1234'  # we can access the pin variable directly from outside the class which is not a good practice .\n",
        "obj.balance = 2500000  # we can access the balance variable directly from outside the class which is not a good practice .\n",
        "obj.check_balance()  # so to avoid this we use encapsulation ."
      ]
    },
    {
      "cell_type": "code",
      "execution_count": null,
      "metadata": {},
      "outputs": [],
      "source": [
        "### Encapsulation --- IGNORE ---\n",
        "\n",
        "class AtmEncapsulated:\n",
        "    # constructor : Here for a constructor we do not call the function explicitly to run the code written inside it  ( it is done automatically when an object of this class is created ) .\n",
        "  def __init__(self):\n",
        "    print(id(self))\n",
        "    self.__pin = ''\n",
        "    self.__balance = 100000\n",
        "    self.menu()\n",
        "\n",
        "  def menu(self):\n",
        "    user_input = input(\"\"\"\n",
        "    Hi how can I help you?\n",
        "    1. Press 1 to create pin\n",
        "    2. Press 2 to change pin\n",
        "    3. Press 3 to check balance\n",
        "    4. Press 4 to withdraw\n",
        "    5. Anything else to exit\n",
        "    \"\"\")\n",
        "\n",
        "    if user_input == '1':\n",
        "      self.create_pin()         # Calling create_pin function\n",
        "    elif user_input == '2':\n",
        "      self.change_pin()\n",
        "    elif user_input == '3':\n",
        "      self.check_balance()\n",
        "    elif user_input == '4':\n",
        "      self.withdraw()\n",
        "    else:\n",
        "      exit()\n",
        "\n",
        "  def create_pin(self):\n",
        "    user_pin = input('Enter your pin : ')\n",
        "    self.__pin = user_pin\n",
        "\n",
        "    print('Pin created successfully')\n",
        "    self.menu()\n",
        "\n",
        "  def change_pin(self):\n",
        "    old_pin = input('Enter old pin : ')\n",
        "\n",
        "    if old_pin == self.__pin:\n",
        "      # let him change the pin\n",
        "      new_pin = input('Enter new pin : ')\n",
        "      self.__pin = new_pin\n",
        "      print('Pin change successful')\n",
        "      self.menu()\n",
        "    else:\n",
        "      print('You entered wrong pin')\n",
        "      self.menu()\n",
        "\n",
        "  def check_balance(self):\n",
        "    user_pin = input('enter your pin : ')\n",
        "    if user_pin == self.__pin:\n",
        "      print('your balance is : ',self.__balance)\n",
        "    else:\n",
        "      print('You entered wrong pin')\n",
        "\n",
        "  def withdraw(self):\n",
        "    user_pin = input('Enter the pin : ')\n",
        "    if user_pin == self.__pin:\n",
        "      # allow to withdraw\n",
        "      amount = int(input('Enter the amount : '))\n",
        "      if amount <= self.__balance:\n",
        "        self.__balance = self.__balance - amount\n",
        "        print('withdrawal successful.balance is',self.__balance)\n",
        "      else:\n",
        "        print('Unable to withdraw because your balance is low')\n",
        "    else:\n",
        "      print('You entered wrong pin')\n",
        "    self.menu()"
      ]
    },
    {
      "cell_type": "code",
      "execution_count": null,
      "metadata": {},
      "outputs": [],
      "source": [
        "obj2 = AtmEncapsulated()\n",
        "obj2.__pin = '1234'  \n",
        "obj2.__balance = 2500000 \n",
        "# Hence we cannot access the pin and balance variable directly from outside the class because they are private now ."
      ]
    },
    {
      "cell_type": "markdown",
      "metadata": {},
      "source": [
        "But in python we can still access them using name mangling like this `object._ClassName__privateVariable` but it is not a good practice to do so because it defeats the purpose of encapsulation .\n",
        "\n",
        "So in python there is no strict enforcement of private and protected access modifiers like in some other programming languages, but the use of underscores is a convention that indicates the intended level of access for variables and methods.\n",
        "\n",
        "Because of this we can still access the private and protected variables from outside the class but it is not recommended to do so , **since python is an Adults language it trusts the programmer to do the right thing .**"
      ]
    },
    {
      "cell_type": "code",
      "execution_count": null,
      "metadata": {},
      "outputs": [],
      "source": [
        "obj2 = AtmEncapsulated()\n",
        "obj2._AtmEncapsulated__pin  = '1234' \n",
        "obj2._AtmEncapsulated__balance = 2500000\n",
        "obj2._AtmEncapsulated__balance"
      ]
    },
    {
      "cell_type": "markdown",
      "metadata": {},
      "source": [
        "So always make the variables private or protected . This is to ensure that the internal representation of the object is hidden from the outside and can only be accessed through public methods. This is known as encapsulation and is one of the fundamental principles of object-oriented programming."
      ]
    },
    {
      "cell_type": "markdown",
      "metadata": {},
      "source": [
        "If we want to access the private or protected variables from outside the class (Without removing encapsulation) we can create public methods inside the class that can access these private or protected variables and return their values when called from outside the class.\n",
        "\n",
        "here comes the concept of getters and setters.\n",
        "\n",
        "`Getters` are methods that are used to retrieve the value of a private or protected variable, while `setters` are methods that are used to set the value of a private or protected variable."
      ]
    },
    {
      "cell_type": "code",
      "execution_count": null,
      "metadata": {},
      "outputs": [],
      "source": [
        "\n",
        "class AtmEncapsulatedGettersSetters:\n",
        "  def __init__(self):\n",
        "    print(id(self))\n",
        "    self.__pin = ''\n",
        "    self.__balance = 0\n",
        "    # self.menu()\n",
        "\n",
        "# GETTERS AND SETTERS --- IGNORE ---\n",
        "\n",
        "  def get_pin(self):\n",
        "        return self.__pin\n",
        "  \n",
        "  def set_pin(self, new_pin):\n",
        "        self.__pin = new_pin\n",
        "        print('Pin updated successfully')\n",
        "\n",
        "  def get_Balance(self):\n",
        "        return self.__balance\n",
        "\n",
        "  def set_Balance(self, new_balance):\n",
        "        self.__balance = new_balance\n",
        "        print('Balance updated successfully')\n",
        "\n",
        "# GETTERS AND SETTERS --- IGNORE ---\n",
        "\n",
        "  def menu(self):\n",
        "    user_input = input(\"\"\"\n",
        "    Hi how can I help you?\n",
        "    1. Press 1 to create pin\n",
        "    2. Press 2 to change pin\n",
        "    3. Press 3 to check balance\n",
        "    4. Press 4 to withdraw\n",
        "    5. Anything else to exit\n",
        "    \"\"\")\n",
        "\n",
        "    if user_input == '1':\n",
        "      self.create_pin()         # Calling create_pin function\n",
        "    elif user_input == '2':\n",
        "      self.change_pin()\n",
        "    elif user_input == '3':\n",
        "      self.check_balance()\n",
        "    elif user_input == '4':\n",
        "      self.withdraw()\n",
        "    else:\n",
        "      exit()\n",
        "\n",
        "  def create_pin(self):\n",
        "    user_pin = input('Enter your pin : ')\n",
        "    self.__pin = user_pin\n",
        "\n",
        "    print('Pin created successfully')\n",
        "    self.menu()\n",
        "\n",
        "  def change_pin(self):\n",
        "    old_pin = input('Enter old pin : ')\n",
        "\n",
        "    if old_pin == self.__pin:\n",
        "      # let him change the pin\n",
        "      new_pin = input('Enter new pin : ')\n",
        "      self.__pin = new_pin\n",
        "      print('Pin change successful')\n",
        "      self.menu()\n",
        "    else:\n",
        "      print('You entered wrong pin')\n",
        "      self.menu()\n",
        "\n",
        "  def check_balance(self):\n",
        "    user_pin = input('enter your pin : ')\n",
        "    if user_pin == self.__pin:\n",
        "      print('your balance is : ',self.__balance)\n",
        "    else:\n",
        "      print('You entered wrong pin')\n",
        "\n",
        "  def withdraw(self):\n",
        "    user_pin = input('Enter the pin : ')\n",
        "    if user_pin == self.__pin:\n",
        "      # allow to withdraw\n",
        "      amount = int(input('Enter the amount : '))\n",
        "      if amount <= self.__balance:\n",
        "        self.__balance = self.__balance - amount\n",
        "        print('withdrawal successful.balance is',self.__balance)\n",
        "      else:\n",
        "        print('Unable to withdraw because your balance is low')\n",
        "    else:\n",
        "      print('You entered wrong pin')\n",
        "    self.menu()"
      ]
    },
    {
      "cell_type": "code",
      "execution_count": 6,
      "metadata": {},
      "outputs": [
        {
          "name": "stdout",
          "output_type": "stream",
          "text": [
            "2416818921760\n"
          ]
        }
      ],
      "source": [
        "o1 = AtmEncapsulatedGettersSetters()"
      ]
    },
    {
      "cell_type": "code",
      "execution_count": 11,
      "metadata": {},
      "outputs": [
        {
          "name": "stdout",
          "output_type": "stream",
          "text": [
            "Balance updated successfully\n"
          ]
        },
        {
          "data": {
            "text/plain": [
              "87000"
            ]
          },
          "execution_count": 11,
          "metadata": {},
          "output_type": "execute_result"
        }
      ],
      "source": [
        "o1.set_Balance(87000)\n",
        "o1.get_Balance()"
      ]
    },
    {
      "cell_type": "code",
      "execution_count": 10,
      "metadata": {},
      "outputs": [
        {
          "name": "stdout",
          "output_type": "stream",
          "text": [
            "Pin updated successfully\n"
          ]
        },
        {
          "data": {
            "text/plain": [
              "'1234'"
            ]
          },
          "execution_count": 10,
          "metadata": {},
          "output_type": "execute_result"
        }
      ],
      "source": [
        "o1.set_pin('1234')  # setting the pin using setter method\n",
        "o1.get_pin()        # getting the pin using getter method"
      ]
    },
    {
      "cell_type": "markdown",
      "metadata": {
        "id": "2zN_yVYaf0_1"
      },
      "source": [
        "### Collection of objects"
      ]
    },
    {
      "cell_type": "code",
      "execution_count": 1,
      "metadata": {
        "colab": {
          "base_uri": "https://localhost:8080/"
        },
        "id": "VdP0aR6Qf4zp",
        "outputId": "72deb00b-deae-4536-da36-2bae44d2245c"
      },
      "outputs": [
        {
          "name": "stdout",
          "output_type": "stream",
          "text": [
            "[<__main__.Person object at 0x000002BA19031A90>, <__main__.Person object at 0x000002BA18E2FED0>, <__main__.Person object at 0x000002BA19044410>]\n",
            "nitish male\n",
            "ankit male\n",
            "ankita female\n"
          ]
        }
      ],
      "source": [
        "# list of objects\n",
        "class Person:\n",
        "\n",
        "  def __init__(self,name,gender):\n",
        "    self.name = name\n",
        "    self.gender = gender\n",
        "\n",
        "p1 = Person('nitish','male')\n",
        "p2 = Person('ankit','male')\n",
        "p3 = Person('ankita','female')\n",
        "\n",
        "L = [p1,p2,p3]\n",
        "print(L)    # this will print the memory addresses of the objects in the list\n",
        "\n",
        "for i in L:\n",
        "  print(i.name,i.gender)"
      ]
    },
    {
      "cell_type": "code",
      "execution_count": 2,
      "metadata": {
        "colab": {
          "base_uri": "https://localhost:8080/"
        },
        "id": "uARXTZTCvt3M",
        "outputId": "18e100f5-07a5-43df-d0d9-482ce648f6f5"
      },
      "outputs": [
        {
          "name": "stdout",
          "output_type": "stream",
          "text": [
            "nitish\n",
            "ankit\n",
            "ankita\n"
          ]
        }
      ],
      "source": [
        "# dict of objects\n",
        "# list of objects\n",
        "class Person:\n",
        "\n",
        "  def __init__(self,name,gender):\n",
        "    self.name = name\n",
        "    self.gender = gender\n",
        "\n",
        "p1 = Person('nitish','male')\n",
        "p2 = Person('ankit','male')\n",
        "p3 = Person('ankita','female')\n",
        "\n",
        "d = {'p1':p1,'p2':p2,'p3':p3}\n",
        "\n",
        "for i in d:\n",
        "  print(d[i].name)"
      ]
    },
    {
      "cell_type": "markdown",
      "metadata": {
        "id": "TKdM9xIFf8Lt"
      },
      "source": [
        "### Static Variables(Vs Instance variables)\n",
        "- `Static variables` are variables that are shared among all instances of a class. They are defined within the class but outside any instance methods. Static variables are used to store data that is common to all objects of the class, rather than data that is specific to each object.\n",
        "- `Instance variables`, on the other hand, are variables that are specific to each instance of a class. They are defined within the constructor (or instance methods) and are prefixed with `self`. Each object has its own copy of instance variables, and they can have different values for different objects."
      ]
    },
    {
      "cell_type": "markdown",
      "metadata": {},
      "source": [
        " lets say we want to keep a track of number of objects created (customer count in bank)"
      ]
    },
    {
      "cell_type": "code",
      "execution_count": null,
      "metadata": {
        "id": "yQakCFqbf-kB"
      },
      "outputs": [
        {
          "name": "stdout",
          "output_type": "stream",
          "text": [
            "1\n",
            "1\n",
            "1\n"
          ]
        }
      ],
      "source": [
        "# Instance variable \n",
        "class Person:\n",
        "\n",
        "  count = 0   # static variable to keep track of number of objects created\n",
        "\n",
        "  def __init__(self,name,gender):\n",
        "    self.name = name\n",
        "    self.gender = gender\n",
        "    self.count = 0   # instance variable\n",
        "    self.count += 1   # incrementing instance variable\n",
        "\n",
        "p1 = Person('ritesh','male')\n",
        "p2 = Person('ankit','male')\n",
        "p3 = Person('priya','female')\n",
        "print(p1.count)  # this will print 1 because count is an instance variable and each object has its own copy of it\n",
        "print(p2.count)  # this will print 1 because count is an instance variable and each object has its own copy of it\n",
        "print(p3.count)  # this will print 1 because count is an instance variable and each object has its own copy of it"
      ]
    },
    {
      "cell_type": "code",
      "execution_count": 8,
      "metadata": {},
      "outputs": [
        {
          "name": "stdout",
          "output_type": "stream",
          "text": [
            "3\n"
          ]
        }
      ],
      "source": [
        "# static variable\n",
        "class Person:\n",
        "\n",
        "  count = 0   # static variable to keep track of number of objects created\n",
        "\n",
        "  def __init__(self,name,gender):\n",
        "    self.name = name\n",
        "    self.gender = gender\n",
        "    Person.count += 1   # incrementing static variable\n",
        "    # self.count += 1   # this will give error because count is a static variable and cannot be accessed using self\n",
        "\n",
        "p1 = Person('ritesh','male')\n",
        "p2 = Person('ankit','male')\n",
        "p3 = Person('priya','female')\n",
        "print(Person.count)  # this will print 3 because count is a static variable and is shared among all objects of the class"
      ]
    },
    {
      "cell_type": "code",
      "execution_count": 23,
      "metadata": {},
      "outputs": [
        {
          "name": "stdout",
          "output_type": "stream",
          "text": [
            "1\n",
            "2\n",
            "3\n"
          ]
        }
      ],
      "source": [
        "# getting customer id\n",
        "class Customer:\n",
        "    id_counter = 1  # making it private static variable to keep track of customer ids\n",
        "\n",
        "    def __init__(self, name):\n",
        "        self.name = name\n",
        "        self.id = Customer.id_counter\n",
        "        Customer.id_counter += 1\n",
        "\n",
        "    def get_id(self):\n",
        "        return self.id\n",
        "    \n",
        "    # alternative way to get id\n",
        "    @staticmethod       # static method because it does not use self , it uses class variable and always returns the last assigned id\n",
        "    def get_id_alternative():\n",
        "        return Customer.id_counter - 1\n",
        "\n",
        "c1 = Customer('Alice')\n",
        "c2 = Customer('Bob')\n",
        "c3 = Customer('Charlie')\n",
        "\n",
        "print(c1.id)  # 1\n",
        "print(c2.id)  # 2\n",
        "print(c3.id)  # 3"
      ]
    },
    {
      "cell_type": "code",
      "execution_count": 22,
      "metadata": {},
      "outputs": [
        {
          "data": {
            "text/plain": [
              "3"
            ]
          },
          "execution_count": 22,
          "metadata": {},
          "output_type": "execute_result"
        }
      ],
      "source": [
        "c1.get_id()  # 1\n",
        "# c1.get_id_alternative()     # This will give error because get_id_alternative is a static method and cannot be called using self\n",
        "Customer.get_id_alternative()  # so for static methods we call them using class name"
      ]
    },
    {
      "cell_type": "markdown",
      "metadata": {
        "id": "K9bxHyfBgC3Y"
      },
      "source": [
        "### Static methods"
      ]
    },
    {
      "cell_type": "markdown",
      "metadata": {
        "id": "Izqb_9FtwoIZ"
      },
      "source": [
        "##### Points to remember about static\n",
        "\n",
        "- Static attributes are created at class level.\n",
        "- Static attributes are accessed using ClassName.\n",
        "- Static attributes are object independent. We can access them without creating instance (object) of the class in which they are defined.\n",
        "- The value stored in static attribute is shared between all instances(objects) of the class in which the static attribute is defined."
      ]
    },
    {
      "cell_type": "code",
      "execution_count": null,
      "metadata": {
        "id": "3u0RdyaFwyaP"
      },
      "outputs": [],
      "source": [
        "class Lion:\n",
        "  __water_source=\"well in the circus\"\n",
        "\n",
        "  def __init__(self,name, gender):\n",
        "      self.__name=name\n",
        "      self.__gender=gender\n",
        "\n",
        "  def drinks_water(self):\n",
        "      print(self.__name,\n",
        "      \"drinks water from the\",Lion.__water_source)\n",
        "\n",
        "  @staticmethod\n",
        "  def get_water_source():\n",
        "      return Lion.__water_source\n",
        "\n",
        "simba=Lion(\"Simba\",\"Male\")\n",
        "simba.drinks_water()\n",
        "print( \"Water source of lions:\",Lion.get_water_source())"
      ]
    }
  ],
  "metadata": {
    "colab": {
      "provenance": []
    },
    "kernelspec": {
      "display_name": ".venv (3.13.7)",
      "language": "python",
      "name": "python3"
    },
    "language_info": {
      "codemirror_mode": {
        "name": "ipython",
        "version": 3
      },
      "file_extension": ".py",
      "mimetype": "text/x-python",
      "name": "python",
      "nbconvert_exporter": "python",
      "pygments_lexer": "ipython3",
      "version": "3.13.7"
    }
  },
  "nbformat": 4,
  "nbformat_minor": 0
}
