{
  "cells": [
    {
      "cell_type": "markdown",
      "metadata": {
        "id": "A2Opzki1fw7x"
      },
      "source": [
        "# Encapsulation"
      ]
    },
    {
      "cell_type": "code",
      "execution_count": null,
      "metadata": {
        "id": "yLRvYq47fyvp"
      },
      "outputs": [],
      "source": [
        "# instance var -> python tutor\n",
        "class Person:\n",
        "\n",
        "  def __init__(self,name_input,country_input):\n",
        "    self.name = name_input\n",
        "    self.country = country_input\n",
        "\n",
        "p1 = Person('nitish','india')\n",
        "p2 = Person('steve','australia')"
      ]
    },
    {
      "cell_type": "code",
      "execution_count": null,
      "metadata": {
        "colab": {
          "base_uri": "https://localhost:8080/",
          "height": 36
        },
        "id": "myBJr2T_KZmL",
        "outputId": "98f717d2-c600-43fa-c6ba-012f518d0490"
      },
      "outputs": [
        {
          "data": {
            "application/vnd.google.colaboratory.intrinsic+json": {
              "type": "string"
            },
            "text/plain": [
              "'steve'"
            ]
          },
          "execution_count": 65,
          "metadata": {},
          "output_type": "execute_result"
        }
      ],
      "source": [
        "p2.name"
      ]
    },
    {
      "cell_type": "code",
      "execution_count": null,
      "metadata": {
        "id": "HRV0i93nzBtZ"
      },
      "outputs": [],
      "source": [
        "class Atm:\n",
        "\n",
        "  # constructor(special function)->superpower ->\n",
        "  def __init__(self):\n",
        "    print(id(self))\n",
        "    self.pin = ''\n",
        "    self.__balance = 0\n",
        "    #self.menu()\n",
        "\n",
        "  def get_balance(self):\n",
        "    return self.__balance\n",
        "\n",
        "  def set_balance(self,new_value):\n",
        "    if type(new_value) == int:\n",
        "      self.__balance = new_value\n",
        "    else:\n",
        "      print('beta bahot maarenge')\n",
        "\n",
        "  def __menu(self):\n",
        "    user_input = input(\"\"\"\n",
        "    Hi how can I help you?\n",
        "    1. Press 1 to create pin\n",
        "    2. Press 2 to change pin\n",
        "    3. Press 3 to check balance\n",
        "    4. Press 4 to withdraw\n",
        "    5. Anything else to exit\n",
        "    \"\"\")\n",
        "\n",
        "    if user_input == '1':\n",
        "      self.create_pin()\n",
        "    elif user_input == '2':\n",
        "      self.change_pin()\n",
        "    elif user_input == '3':\n",
        "      self.check_balance()\n",
        "    elif user_input == '4':\n",
        "      self.withdraw()\n",
        "    else:\n",
        "      exit()\n",
        "\n",
        "  def create_pin(self):\n",
        "    user_pin = input('enter your pin')\n",
        "    self.pin = user_pin\n",
        "\n",
        "    user_balance = int(input('enter balance'))\n",
        "    self.__balance = user_balance\n",
        "\n",
        "    print('pin created successfully')\n",
        "\n",
        "  def change_pin(self):\n",
        "    old_pin = input('enter old pin')\n",
        "\n",
        "    if old_pin == self.pin:\n",
        "      # let him change the pin\n",
        "      new_pin = input('enter new pin')\n",
        "      self.pin = new_pin\n",
        "      print('pin change successful')\n",
        "    else:\n",
        "      print('nai karne de sakta re baba')\n",
        "\n",
        "  def check_balance(self):\n",
        "    user_pin = input('enter your pin')\n",
        "    if user_pin == self.pin:\n",
        "      print('your balance is ',self.__balance)\n",
        "    else:\n",
        "      print('chal nikal yahan se')\n",
        "\n",
        "  def withdraw(self):\n",
        "    user_pin = input('enter the pin')\n",
        "    if user_pin == self.pin:\n",
        "      # allow to withdraw\n",
        "      amount = int(input('enter the amount'))\n",
        "      if amount <= self.__balance:\n",
        "        self.__balance = self.__balance - amount\n",
        "        print('withdrawl successful.balance is',self.__balance)\n",
        "      else:\n",
        "        print('abe garib')\n",
        "    else:\n",
        "      print('sale chor')"
      ]
    },
    {
      "cell_type": "code",
      "execution_count": null,
      "metadata": {
        "colab": {
          "base_uri": "https://localhost:8080/"
        },
        "id": "L_5IBTO_LaFO",
        "outputId": "f3e1ac11-942e-4324-b471-d5e9f295fa9c"
      },
      "outputs": [
        {
          "name": "stdout",
          "output_type": "stream",
          "text": [
            "140655538526416\n"
          ]
        }
      ],
      "source": [
        "obj = Atm()"
      ]
    },
    {
      "cell_type": "code",
      "execution_count": null,
      "metadata": {
        "colab": {
          "base_uri": "https://localhost:8080/"
        },
        "id": "2k4gY5HlLtdE",
        "outputId": "c37806fc-228d-43ab-fa1c-3d3a021666b7"
      },
      "outputs": [
        {
          "data": {
            "text/plain": [
              "1000"
            ]
          },
          "execution_count": 100,
          "metadata": {},
          "output_type": "execute_result"
        }
      ],
      "source": [
        "obj.get_balance()"
      ]
    },
    {
      "cell_type": "code",
      "execution_count": null,
      "metadata": {
        "id": "OEDXxBISQeH-"
      },
      "outputs": [],
      "source": [
        "obj.set_balance(1000)"
      ]
    },
    {
      "cell_type": "code",
      "execution_count": null,
      "metadata": {
        "colab": {
          "base_uri": "https://localhost:8080/",
          "height": 330
        },
        "id": "MIOrnSeLL4Gi",
        "outputId": "928252c3-ae3b-42ed-fe0c-11e1e6ed7b08"
      },
      "outputs": [
        {
          "name": "stdout",
          "output_type": "stream",
          "text": [
            "enter the pin\n",
            "enter the amount5000\n"
          ]
        },
        {
          "ename": "TypeError",
          "evalue": "ignored",
          "output_type": "error",
          "traceback": [
            "\u001b[0;31m---------------------------------------------------------------------------\u001b[0m",
            "\u001b[0;31mTypeError\u001b[0m                                 Traceback (most recent call last)",
            "\u001b[0;32m<ipython-input-93-826ea677aa70>\u001b[0m in \u001b[0;36m<module>\u001b[0;34m\u001b[0m\n\u001b[0;32m----> 1\u001b[0;31m \u001b[0mobj\u001b[0m\u001b[0;34m.\u001b[0m\u001b[0mwithdraw\u001b[0m\u001b[0;34m(\u001b[0m\u001b[0;34m)\u001b[0m\u001b[0;34m\u001b[0m\u001b[0;34m\u001b[0m\u001b[0m\n\u001b[0m",
            "\u001b[0;32m<ipython-input-86-f5bffac7e2a0>\u001b[0m in \u001b[0;36mwithdraw\u001b[0;34m(self)\u001b[0m\n\u001b[1;32m     67\u001b[0m       \u001b[0;31m# allow to withdraw\u001b[0m\u001b[0;34m\u001b[0m\u001b[0;34m\u001b[0m\u001b[0;34m\u001b[0m\u001b[0m\n\u001b[1;32m     68\u001b[0m       \u001b[0mamount\u001b[0m \u001b[0;34m=\u001b[0m \u001b[0mint\u001b[0m\u001b[0;34m(\u001b[0m\u001b[0minput\u001b[0m\u001b[0;34m(\u001b[0m\u001b[0;34m'enter the amount'\u001b[0m\u001b[0;34m)\u001b[0m\u001b[0;34m)\u001b[0m\u001b[0;34m\u001b[0m\u001b[0;34m\u001b[0m\u001b[0m\n\u001b[0;32m---> 69\u001b[0;31m       \u001b[0;32mif\u001b[0m \u001b[0mamount\u001b[0m \u001b[0;34m<=\u001b[0m \u001b[0mself\u001b[0m\u001b[0;34m.\u001b[0m\u001b[0m__balance\u001b[0m\u001b[0;34m:\u001b[0m\u001b[0;34m\u001b[0m\u001b[0;34m\u001b[0m\u001b[0m\n\u001b[0m\u001b[1;32m     70\u001b[0m         \u001b[0mself\u001b[0m\u001b[0;34m.\u001b[0m\u001b[0m__balance\u001b[0m \u001b[0;34m=\u001b[0m \u001b[0mself\u001b[0m\u001b[0;34m.\u001b[0m\u001b[0m__balance\u001b[0m \u001b[0;34m-\u001b[0m \u001b[0mamount\u001b[0m\u001b[0;34m\u001b[0m\u001b[0;34m\u001b[0m\u001b[0m\n\u001b[1;32m     71\u001b[0m         \u001b[0mprint\u001b[0m\u001b[0;34m(\u001b[0m\u001b[0;34m'withdrawl successful.balance is'\u001b[0m\u001b[0;34m,\u001b[0m\u001b[0mself\u001b[0m\u001b[0;34m.\u001b[0m\u001b[0m__balance\u001b[0m\u001b[0;34m)\u001b[0m\u001b[0;34m\u001b[0m\u001b[0;34m\u001b[0m\u001b[0m\n",
            "\u001b[0;31mTypeError\u001b[0m: '<=' not supported between instances of 'int' and 'str'"
          ]
        }
      ],
      "source": [
        "obj.withdraw()"
      ]
    },
    {
      "cell_type": "markdown",
      "metadata": {
        "id": "2zN_yVYaf0_1"
      },
      "source": [
        "### Collection of objects"
      ]
    },
    {
      "cell_type": "code",
      "execution_count": null,
      "metadata": {
        "id": "UN7FByT3LZSX"
      },
      "outputs": [],
      "source": []
    },
    {
      "cell_type": "code",
      "execution_count": null,
      "metadata": {
        "colab": {
          "base_uri": "https://localhost:8080/"
        },
        "id": "VdP0aR6Qf4zp",
        "outputId": "72deb00b-deae-4536-da36-2bae44d2245c"
      },
      "outputs": [
        {
          "name": "stdout",
          "output_type": "stream",
          "text": [
            "nitish male\n",
            "ankit male\n",
            "ankita female\n"
          ]
        }
      ],
      "source": [
        "# list of objects\n",
        "class Person:\n",
        "\n",
        "  def __init__(self,name,gender):\n",
        "    self.name = name\n",
        "    self.gender = gender\n",
        "\n",
        "p1 = Person('nitish','male')\n",
        "p2 = Person('ankit','male')\n",
        "p3 = Person('ankita','female')\n",
        "\n",
        "L = [p1,p2,p3]\n",
        "\n",
        "for i in L:\n",
        "  print(i.name,i.gender)"
      ]
    },
    {
      "cell_type": "code",
      "execution_count": null,
      "metadata": {
        "colab": {
          "base_uri": "https://localhost:8080/"
        },
        "id": "uARXTZTCvt3M",
        "outputId": "18e100f5-07a5-43df-d0d9-482ce648f6f5"
      },
      "outputs": [
        {
          "name": "stdout",
          "output_type": "stream",
          "text": [
            "male\n",
            "male\n",
            "female\n"
          ]
        }
      ],
      "source": [
        "# dict of objects\n",
        "# list of objects\n",
        "class Person:\n",
        "\n",
        "  def __init__(self,name,gender):\n",
        "    self.name = name\n",
        "    self.gender = gender\n",
        "\n",
        "p1 = Person('nitish','male')\n",
        "p2 = Person('ankit','male')\n",
        "p3 = Person('ankita','female')\n",
        "\n",
        "d = {'p1':p1,'p2':p2,'p3':p3}\n",
        "\n",
        "for i in d:\n",
        "  print(d[i].gender)"
      ]
    },
    {
      "cell_type": "markdown",
      "metadata": {
        "id": "TKdM9xIFf8Lt"
      },
      "source": [
        "### Static Variables(Vs Instance variables)"
      ]
    },
    {
      "cell_type": "code",
      "execution_count": null,
      "metadata": {
        "id": "yQakCFqbf-kB"
      },
      "outputs": [],
      "source": [
        "# need for static vars"
      ]
    },
    {
      "cell_type": "code",
      "execution_count": null,
      "metadata": {
        "id": "5HYjBHv9wZNm"
      },
      "outputs": [],
      "source": [
        "class Atm:\n",
        "\n",
        "  __counter = 1\n",
        "\n",
        "  # constructor(special function)->superpower ->\n",
        "  def __init__(self):\n",
        "    print(id(self))\n",
        "    self.pin = ''\n",
        "    self.__balance = 0\n",
        "    self.cid = Atm.__counter\n",
        "    Atm.__counter = Atm.__counter + 1\n",
        "    #self.menu()\n",
        "\n",
        "  # utility functions\n",
        "  @staticmethod\n",
        "  def get_counter():\n",
        "    return Atm.__counter\n",
        "\n",
        "\n",
        "  def get_balance(self):\n",
        "    return self.__balance\n",
        "\n",
        "  def set_balance(self,new_value):\n",
        "    if type(new_value) == int:\n",
        "      self.__balance = new_value\n",
        "    else:\n",
        "      print('beta bahot maarenge')\n",
        "\n",
        "  def __menu(self):\n",
        "    user_input = input(\"\"\"\n",
        "    Hi how can I help you?\n",
        "    1. Press 1 to create pin\n",
        "    2. Press 2 to change pin\n",
        "    3. Press 3 to check balance\n",
        "    4. Press 4 to withdraw\n",
        "    5. Anything else to exit\n",
        "    \"\"\")\n",
        "\n",
        "    if user_input == '1':\n",
        "      self.create_pin()\n",
        "    elif user_input == '2':\n",
        "      self.change_pin()\n",
        "    elif user_input == '3':\n",
        "      self.check_balance()\n",
        "    elif user_input == '4':\n",
        "      self.withdraw()\n",
        "    else:\n",
        "      exit()\n",
        "\n",
        "  def create_pin(self):\n",
        "    user_pin = input('enter your pin')\n",
        "    self.pin = user_pin\n",
        "\n",
        "    user_balance = int(input('enter balance'))\n",
        "    self.__balance = user_balance\n",
        "\n",
        "    print('pin created successfully')\n",
        "\n",
        "  def change_pin(self):\n",
        "    old_pin = input('enter old pin')\n",
        "\n",
        "    if old_pin == self.pin:\n",
        "      # let him change the pin\n",
        "      new_pin = input('enter new pin')\n",
        "      self.pin = new_pin\n",
        "      print('pin change successful')\n",
        "    else:\n",
        "      print('nai karne de sakta re baba')\n",
        "\n",
        "  def check_balance(self):\n",
        "    user_pin = input('enter your pin')\n",
        "    if user_pin == self.pin:\n",
        "      print('your balance is ',self.__balance)\n",
        "    else:\n",
        "      print('chal nikal yahan se')\n",
        "\n",
        "  def withdraw(self):\n",
        "    user_pin = input('enter the pin')\n",
        "    if user_pin == self.pin:\n",
        "      # allow to withdraw\n",
        "      amount = int(input('enter the amount'))\n",
        "      if amount <= self.__balance:\n",
        "        self.__balance = self.__balance - amount\n",
        "        print('withdrawl successful.balance is',self.__balance)\n",
        "      else:\n",
        "        print('abe garib')\n",
        "    else:\n",
        "      print('sale chor')"
      ]
    },
    {
      "cell_type": "code",
      "execution_count": null,
      "metadata": {
        "colab": {
          "base_uri": "https://localhost:8080/"
        },
        "id": "uafMrCPewZWY",
        "outputId": "b0c914a4-b08b-4aa0-ebcb-9f1b4bacd0ba"
      },
      "outputs": [
        {
          "name": "stdout",
          "output_type": "stream",
          "text": [
            "140655538287248\n"
          ]
        }
      ],
      "source": [
        "c1 = Atm()"
      ]
    },
    {
      "cell_type": "code",
      "execution_count": null,
      "metadata": {
        "colab": {
          "base_uri": "https://localhost:8080/"
        },
        "id": "f35wRAlXwZa7",
        "outputId": "a7a897b2-8262-45b7-b83a-aad207ee102f"
      },
      "outputs": [
        {
          "data": {
            "text/plain": [
              "2"
            ]
          },
          "execution_count": 128,
          "metadata": {},
          "output_type": "execute_result"
        }
      ],
      "source": [
        "Atm.get_counter()"
      ]
    },
    {
      "cell_type": "code",
      "execution_count": null,
      "metadata": {
        "colab": {
          "base_uri": "https://localhost:8080/"
        },
        "id": "WiCrLBgGTseq",
        "outputId": "9019d462-0b46-4a9d-8837-6a3c31591ad4"
      },
      "outputs": [
        {
          "name": "stdout",
          "output_type": "stream",
          "text": [
            "140655538226704\n"
          ]
        }
      ],
      "source": [
        "c3 = Atm()"
      ]
    },
    {
      "cell_type": "code",
      "execution_count": null,
      "metadata": {
        "colab": {
          "base_uri": "https://localhost:8080/"
        },
        "id": "YwPU4wRYTuoK",
        "outputId": "cb34a43c-1337-412f-c7ee-e6a2eccd9066"
      },
      "outputs": [
        {
          "data": {
            "text/plain": [
              "3"
            ]
          },
          "execution_count": 121,
          "metadata": {},
          "output_type": "execute_result"
        }
      ],
      "source": [
        "c3.cid"
      ]
    },
    {
      "cell_type": "code",
      "execution_count": null,
      "metadata": {
        "colab": {
          "base_uri": "https://localhost:8080/"
        },
        "id": "-shiIdW1Vmzd",
        "outputId": "2e1b0468-2e2f-4061-d219-6ee4d818ceea"
      },
      "outputs": [
        {
          "data": {
            "text/plain": [
              "4"
            ]
          },
          "execution_count": 122,
          "metadata": {},
          "output_type": "execute_result"
        }
      ],
      "source": [
        "Atm.counter"
      ]
    },
    {
      "cell_type": "markdown",
      "metadata": {
        "id": "K9bxHyfBgC3Y"
      },
      "source": [
        "### Static methods"
      ]
    },
    {
      "cell_type": "code",
      "execution_count": null,
      "metadata": {
        "id": "_c09xqV9gEf-"
      },
      "outputs": [],
      "source": []
    },
    {
      "cell_type": "markdown",
      "metadata": {
        "id": "Izqb_9FtwoIZ"
      },
      "source": [
        "##### Points to remember about static\n",
        "\n",
        "- Static attributes are created at class level.\n",
        "- Static attributes are accessed using ClassName.\n",
        "- Static attributes are object independent. We can access them without creating instance (object) of the class in which they are defined.\n",
        "- The value stored in static attribute is shared between all instances(objects) of the class in which the static attribute is defined."
      ]
    },
    {
      "cell_type": "code",
      "execution_count": null,
      "metadata": {
        "id": "3u0RdyaFwyaP"
      },
      "outputs": [],
      "source": [
        "class Lion:\n",
        "  __water_source=\"well in the circus\"\n",
        "\n",
        "  def __init__(self,name, gender):\n",
        "      self.__name=name\n",
        "      self.__gender=gender\n",
        "\n",
        "  def drinks_water(self):\n",
        "      print(self.__name,\n",
        "      \"drinks water from the\",Lion.__water_source)\n",
        "\n",
        "  @staticmethod\n",
        "  def get_water_source():\n",
        "      return Lion.__water_source\n",
        "\n",
        "simba=Lion(\"Simba\",\"Male\")\n",
        "simba.drinks_water()\n",
        "print( \"Water source of lions:\",Lion.get_water_source())"
      ]
    }
  ],
  "metadata": {
    "colab": {
      "provenance": []
    },
    "kernelspec": {
      "display_name": "Python 3",
      "name": "python3"
    },
    "language_info": {
      "name": "python"
    }
  },
  "nbformat": 4,
  "nbformat_minor": 0
}
